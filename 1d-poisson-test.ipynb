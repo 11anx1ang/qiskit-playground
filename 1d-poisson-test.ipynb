{
 "cells": [
  {
   "cell_type": "code",
   "execution_count": 1,
   "id": "e6a63ddd",
   "metadata": {},
   "outputs": [],
   "source": [
    "from IPython.display import clear_output\n",
    "!pip install qiskit==0.45.1\n",
    "clear_output()"
   ]
  },
  {
   "cell_type": "code",
   "execution_count": 2,
   "id": "3a173c04",
   "metadata": {
    "scrolled": true
   },
   "outputs": [
    {
     "name": "stdout",
     "output_type": "stream",
     "text": [
      "Name: qiskit\n",
      "Version: 0.45.1\n",
      "Summary: Software for developing quantum computing programs\n",
      "Home-page: https://qiskit.org/\n",
      "Author: Qiskit Development Team\n",
      "Author-email: hello@qiskit.org\n",
      "License: Apache 2.0\n",
      "Location: /Users/leann/anaconda3/lib/python3.11/site-packages\n",
      "Requires: qiskit-terra\n",
      "Required-by: qiskit-aer, qiskit-ibm-provider\n",
      "Name: qiskit-terra\n",
      "Version: 0.45.1\n",
      "Summary: Software for developing quantum computing programs\n",
      "Home-page: https://github.com/Qiskit/qiskit\n",
      "Author: Qiskit Development Team\n",
      "Author-email: hello@qiskit.org\n",
      "License: Apache 2.0\n",
      "Location: /Users/leann/anaconda3/lib/python3.11/site-packages\n",
      "Requires: dill, numpy, ply, psutil, python-dateutil, rustworkx, scipy, stevedore, symengine, sympy\n",
      "Required-by: qiskit, qiskit-algorithms, qiskit-ibmq-provider\n",
      "Name: qiskit-aer\n",
      "Version: 0.13.1\n",
      "Summary: Aer - High performance simulators for Qiskit\n",
      "Home-page: https://github.com/Qiskit/qiskit-aer\n",
      "Author: AER Development Team\n",
      "Author-email: hello@qiskit.org\n",
      "License: Apache 2.0\n",
      "Location: /Users/leann/anaconda3/lib/python3.11/site-packages\n",
      "Requires: numpy, psutil, qiskit, scipy\n",
      "Required-by: \n"
     ]
    }
   ],
   "source": [
    "!pip show qiskit\n",
    "!pip show qiskit-terra\n",
    "!pip show qiskit-aer"
   ]
  },
  {
   "cell_type": "code",
   "execution_count": 19,
   "id": "5c73a792",
   "metadata": {
    "scrolled": true
   },
   "outputs": [],
   "source": [
    "!pip install qiskit-ibm-provider\n",
    "clear_output()"
   ]
  },
  {
   "cell_type": "code",
   "execution_count": 20,
   "id": "34dd2bad",
   "metadata": {
    "scrolled": true
   },
   "outputs": [],
   "source": [
    "#from qiskit import QuantumCircuit, transpile\n",
    "#from qiskit.circuit import Parameter\n",
    "#from qiskit.providers.fake_provider import FakeGuadalupe\n",
    "#from qiskit import Aer\n",
    "#from qiskit_ibm_provider import IBMProvider\n",
    "\n",
    "#from qiskit import IBMQ\n",
    "#IBMQ.save_account(token='88e6dc156f21e6c193717ff36a6c3586bedf692e7d862c23272f4159e1b9a932847ea6f6daf39fbc5baf47e45233ca07c0f28ccacf3bc9d4f621a3a63a2bb426')\n",
    "#IBMQ.load_account() # Load account from disk\n",
    "#IBMQ.providers()    # List all available providers\n",
    "\n",
    "#provider = IBMQ.get_provider()\n",
    "#provider.backends()"
   ]
  },
  {
   "cell_type": "code",
   "execution_count": 21,
   "id": "f8676d33",
   "metadata": {},
   "outputs": [],
   "source": [
    "# Noisy simulator backend\n",
    "from qiskit.providers import aer\n",
    "#from qiskit import qiskit_circuit_library\n",
    "from qiskit.circuit.library import Diagonal\n",
    "    \n",
    "#noisy_sim = FakeGuadalupe()\n",
    "\n",
    "from qiskit import Aer\n",
    "backend = Aer.get_backend('statevector_simulator')"
   ]
  },
  {
   "cell_type": "code",
   "execution_count": 22,
   "id": "d1936b30",
   "metadata": {},
   "outputs": [
    {
     "name": "stderr",
     "output_type": "stream",
     "text": [
      "/var/folders/05/ddc9tzds32j79jy03cjnxk_r0000gn/T/ipykernel_24025/596540703.py:8: DeprecationWarning: The ``qiskit.opflow`` module is deprecated as of qiskit-terra 0.24.0. It will be removed no earlier than 3 months after the release date. For code migration guidelines, visit https://qisk.it/opflow_migration.\n",
      "  from qiskit.opflow import MatrixOp\n"
     ]
    }
   ],
   "source": [
    "import numpy as np\n",
    "from scipy import sparse\n",
    "from scipy.sparse import diags\n",
    "from scipy.sparse.linalg import eigs\n",
    "import matplotlib.pyplot as plt\n",
    "plt.rcParams.update({\"font.size\": 16})  # enlarge matplotlib fonts\n",
    "\n",
    "from qiskit.opflow import MatrixOp"
   ]
  },
  {
   "cell_type": "code",
   "execution_count": 23,
   "id": "7f3a18f0",
   "metadata": {},
   "outputs": [],
   "source": [
    "import numpy as np\n",
    "from scipy import sparse\n",
    "from scipy.sparse import diags\n",
    "from scipy.sparse.linalg import eigs\n",
    "import matplotlib.pyplot as plt\n",
    "plt.rcParams.update({\"font.size\": 16})  # enlarge matplotlib fonts\n",
    "\n",
    "from qiskit.opflow import MatrixOp"
   ]
  },
  {
   "cell_type": "code",
   "execution_count": 25,
   "id": "e79e5a1e",
   "metadata": {
    "scrolled": true
   },
   "outputs": [
    {
     "name": "stdout",
     "output_type": "stream",
     "text": [
      "b: [5, 5.0, 5.2, 5.4, 5.6, 5.8, 6.0, 6.2, 6.4, 6.6, 6.8, 7.0, 7.199999999999999, 7.4, 7.6, 7.8, 8.0]\n",
      "sampled_b: [0.022222222222222223, 0.023111111111111114, 0.024, 0.024888888888888887, 0.025777777777777778, 0.026666666666666665, 0.027555555555555555, 0.028444444444444446, 0.029333333333333333, 0.03022222222222222, 0.03111111111111111, 0.031999999999999994, 0.03288888888888889, 0.033777777777777775, 0.034666666666666665, 0.035555555555555556]\n",
      "Classical solution:\n",
      " [0.21305946 0.21243097 0.2127946  0.21418851 0.21665086 0.2202198\n",
      " 0.22493351 0.23083013 0.23794782 0.24632475 0.25599907 0.26700894\n",
      " 0.27939251 0.29318796 0.30843342 0.32516708]\n",
      "Eigenvector:\n",
      " [ 0.26563401  0.12860858  0.00123398 -0.11105083 -0.20279984 -0.26919709\n",
      " -0.30657715 -0.31280177 -0.28747204 -0.2319636  -0.14928302 -0.04375283\n",
      "  0.07945752  0.21493034  0.35769874  0.50401518]\n",
      "Lenth of Pauli String: 49\n",
      "SummedOp([\n",
      "  5.560873189197075 * IIII,\n",
      "  -3.7483610241094985 * IIIX,\n",
      "  0.08236369941001698 * IIIZ,\n",
      "  IIXI,\n",
      "  -2.0 * IIXX,\n",
      "  -2.0 * IIYY,\n",
      "  0.13762170517169992 * IIZI,\n",
      "  -0.1102540476441991 * IIZX,\n",
      "  -0.3130252079108793 * IIZZ,\n",
      "  0.5 * IXXI,\n",
      "  -1.0 * IXXX,\n",
      "  IXYY,\n",
      "  -1.0 * IYXY,\n",
      "  0.5 * IYYI,\n",
      "  -1.0 * IYYX,\n",
      "  0.13762170517169992 * IZII,\n",
      "  -0.1102540476441991 * IZIX,\n",
      "  -0.3130252079108793 * IZIZ,\n",
      "  -0.4391268108029247 * IZZI,\n",
      "  0.25163897589050144 * IZZX,\n",
      "  0.08236369941001698 * IZZZ,\n",
      "  0.4761995124516357 * XXXI,\n",
      "  -0.7823754933820983 * XXXX,\n",
      "  1.637274244789544e-05 * XXXZ,\n",
      "  0.6690257379735183 * XXYY,\n",
      "  0.6690257379735183 * XYXY,\n",
      "  -0.4761995124516357 * XYYI,\n",
      "  0.7823754933820983 * XYYX,\n",
      "  -1.637274244789544e-05 * XYYZ,\n",
      "  -0.33097426202648184 * YXXY,\n",
      "  0.02380048754836423 * YXYI,\n",
      "  -0.21762450661790167 * YXYX,\n",
      "  -1.6372742447916255e-05 * YXYZ,\n",
      "  0.02380048754836423 * YYXI,\n",
      "  -0.21762450661790167 * YYXX,\n",
      "  -1.6372742447916255e-05 * YYXZ,\n",
      "  0.33097426202648184 * YYYY,\n",
      "  0.13762170517169992 * ZIII,\n",
      "  -0.11025404764419905 * ZIIX,\n",
      "  -0.3130252079108793 * ZIIZ,\n",
      "  -0.4391268108029247 * ZIZI,\n",
      "  0.2516389758905015 * ZIZX,\n",
      "  0.08236369941001698 * ZIZZ,\n",
      "  -0.4391268108029247 * ZZII,\n",
      "  0.2516389758905015 * ZZIX,\n",
      "  0.08236369941001698 * ZZIZ,\n",
      "  0.13762170517169992 * ZZZI,\n",
      "  -0.11025404764419905 * ZZZX,\n",
      "  -0.3130252079108793 * ZZZZ\n",
      "])\n",
      "4\n"
     ]
    },
    {
     "name": "stderr",
     "output_type": "stream",
     "text": [
      "/var/folders/05/ddc9tzds32j79jy03cjnxk_r0000gn/T/ipykernel_24025/4291428159.py:52: DeprecationWarning: The class ``qiskit.opflow.primitive_ops.matrix_op.MatrixOp`` is deprecated as of qiskit-terra 0.24.0. It will be removed no earlier than 3 months after the release date. For code migration guidelines, visit https://qisk.it/opflow_migration.\n",
      "  H_op = MatrixOp(Hamiltonian).to_pauli_op()\n"
     ]
    }
   ],
   "source": [
    "total_res = {}\n",
    "\n",
    "N = 4   # number of qubits\n",
    "dim = 2**N # dimension of the operator A\n",
    "\n",
    "# Setup a tridiagonal matrix\n",
    "k = [np.ones(dim-1), -2*np.ones(dim), np.ones(dim-1)]\n",
    "offset = [-1, 0, 1]\n",
    "A = diags(k,offset).toarray()\n",
    "\n",
    "# Setup the driving term f(x) = 3x+5\n",
    "#b = np.linspace(0, 1, dim)\n",
    "b = [5]\n",
    "sampled_b = []\n",
    "x_i = 0\n",
    "h = 1/(dim-1)\n",
    "for i in range(dim):\n",
    "    iterative_x = (x_i + i*h)\n",
    "    b.append(3*iterative_x+5)\n",
    "    sampled_b.append((3*iterative_x+5)*(h**2))\n",
    "\n",
    "print('b:',b)\n",
    "print('sampled_b:',sampled_b)\n",
    "bt = np.linspace(0, 1, dim)\n",
    "\n",
    "# Setup the Dirichlet B.C.s\n",
    "phi_a, phi_b = 5, 8\n",
    "sampled_b[0] -= phi_a\n",
    "sampled_b[dim-1] -= phi_b\n",
    "norm = np.linalg.norm(sampled_b)\n",
    "sampled_b = sampled_b/norm\n",
    "\n",
    "# Solve the linear system of equations\n",
    "x = np.linalg.solve(A, sampled_b)\n",
    "f = np.linalg.norm(x)\n",
    "x = x/f\n",
    "\n",
    "# Build Hamiltonian\n",
    "sampled_b = sampled_b.reshape([dim, 1])\n",
    "Hamiltonian = A@(np.eye(dim)- sampled_b@sampled_b.T)@A\n",
    "# print(Hamiltonian)\n",
    "\n",
    "print(\"Classical solution:\\n\", x)\n",
    "eig_val, eig_state = np.linalg.eig(Hamiltonian)\n",
    "# print(\"Eigenvalues:\\n\", eig_val)\n",
    "# print(min(eig_val))\n",
    "vec = eig_state[:,-1]\n",
    "# print(eig_state)\n",
    "print(\"Eigenvector:\\n\", -vec)\n",
    "\n",
    "# Transform into Pauli operators\n",
    "H_op = MatrixOp(Hamiltonian).to_pauli_op()\n",
    "print(\"Lenth of Pauli String:\",len(H_op))\n",
    "print(H_op)\n",
    "print(H_op.num_qubits)\n"
   ]
  },
  {
   "cell_type": "code",
   "execution_count": 26,
   "id": "9e12ca72",
   "metadata": {},
   "outputs": [
    {
     "name": "stdout",
     "output_type": "stream",
     "text": [
      "4\n"
     ]
    }
   ],
   "source": [
    "from qiskit.circuit.library import EfficientSU2\n",
    "\n",
    "depth = 5 # depth of ansatz\n",
    "ansatz = EfficientSU2(N, entanglement='linear', reps=depth, skip_final_rotation_layer=True).decompose()\n",
    "ansatz.draw(fold=300)\n",
    "print(ansatz.num_qubits)"
   ]
  },
  {
   "cell_type": "code",
   "execution_count": 102,
   "id": "70176635",
   "metadata": {},
   "outputs": [
    {
     "name": "stdout",
     "output_type": "stream",
     "text": [
      "4\n",
      "number and type of gates in the cirucit: OrderedDict([('ry', 20), ('rz', 20), ('cx', 15)])\n",
      "number of parameters in the circuit: 40\n"
     ]
    },
    {
     "data": {
      "text/html": [
       "<pre style=\"word-wrap: normal;white-space: pre;background: #fff0;line-height: 1.1;font-family: &quot;Courier New&quot;,Courier,monospace\">     ┌──────────┐┌──────────┐     ┌──────────┐┌───────────┐                          ┌───────────┐┌───────────┐                          ┌───────────┐┌───────────┐                          ┌───────────┐┌───────────┐                                    \n",
       "q_0: ┤ Ry(θ[0]) ├┤ Rz(θ[4]) ├──■──┤ Ry(θ[8]) ├┤ Rz(θ[12]) ├───────────────────■──────┤ Ry(θ[16]) ├┤ Rz(θ[20]) ├───────────────────■──────┤ Ry(θ[24]) ├┤ Rz(θ[28]) ├───────────────────■──────┤ Ry(θ[32]) ├┤ Rz(θ[36]) ├───────────────────■────────────────\n",
       "     ├──────────┤├──────────┤┌─┴─┐└──────────┘└┬──────────┤┌───────────┐    ┌─┴─┐    └───────────┘├───────────┤┌───────────┐    ┌─┴─┐    └───────────┘├───────────┤┌───────────┐    ┌─┴─┐    └───────────┘├───────────┤┌───────────┐    ┌─┴─┐              \n",
       "q_1: ┤ Ry(θ[1]) ├┤ Rz(θ[5]) ├┤ X ├─────■───────┤ Ry(θ[9]) ├┤ Rz(θ[13]) ├────┤ X ├──────────■──────┤ Ry(θ[17]) ├┤ Rz(θ[21]) ├────┤ X ├──────────■──────┤ Ry(θ[25]) ├┤ Rz(θ[29]) ├────┤ X ├──────────■──────┤ Ry(θ[33]) ├┤ Rz(θ[37]) ├────┤ X ├──────■───────\n",
       "     ├──────────┤├──────────┤└───┘   ┌─┴─┐     └──────────┘├───────────┤┌───┴───┴───┐    ┌─┴─┐    └───────────┘├───────────┤┌───┴───┴───┐    ┌─┴─┐    └───────────┘├───────────┤┌───┴───┴───┐    ┌─┴─┐    └───────────┘├───────────┤┌───┴───┴───┐┌─┴─┐     \n",
       "q_2: ┤ Ry(θ[2]) ├┤ Rz(θ[6]) ├────────┤ X ├──────────■──────┤ Ry(θ[10]) ├┤ Rz(θ[14]) ├────┤ X ├──────────■──────┤ Ry(θ[18]) ├┤ Rz(θ[22]) ├────┤ X ├──────────■──────┤ Ry(θ[26]) ├┤ Rz(θ[30]) ├────┤ X ├──────────■──────┤ Ry(θ[34]) ├┤ Rz(θ[38]) ├┤ X ├──■──\n",
       "     ├──────────┤├──────────┤        └───┘        ┌─┴─┐    ├───────────┤├───────────┤    └───┘        ┌─┴─┐    ├───────────┤├───────────┤    └───┘        ┌─┴─┐    ├───────────┤├───────────┤    └───┘        ┌─┴─┐    ├───────────┤├───────────┤└───┘┌─┴─┐\n",
       "q_3: ┤ Ry(θ[3]) ├┤ Rz(θ[7]) ├─────────────────────┤ X ├────┤ Ry(θ[11]) ├┤ Rz(θ[15]) ├─────────────────┤ X ├────┤ Ry(θ[19]) ├┤ Rz(θ[23]) ├─────────────────┤ X ├────┤ Ry(θ[27]) ├┤ Rz(θ[31]) ├─────────────────┤ X ├────┤ Ry(θ[35]) ├┤ Rz(θ[39]) ├─────┤ X ├\n",
       "     └──────────┘└──────────┘                     └───┘    └───────────┘└───────────┘                 └───┘    └───────────┘└───────────┘                 └───┘    └───────────┘└───────────┘                 └───┘    └───────────┘└───────────┘     └───┘</pre>"
      ],
      "text/plain": [
       "     ┌──────────┐┌──────────┐     ┌──────────┐┌───────────┐                          ┌───────────┐┌───────────┐                          ┌───────────┐┌───────────┐                          ┌───────────┐┌───────────┐                                    \n",
       "q_0: ┤ Ry(θ[0]) ├┤ Rz(θ[4]) ├──■──┤ Ry(θ[8]) ├┤ Rz(θ[12]) ├───────────────────■──────┤ Ry(θ[16]) ├┤ Rz(θ[20]) ├───────────────────■──────┤ Ry(θ[24]) ├┤ Rz(θ[28]) ├───────────────────■──────┤ Ry(θ[32]) ├┤ Rz(θ[36]) ├───────────────────■────────────────\n",
       "     ├──────────┤├──────────┤┌─┴─┐└──────────┘└┬──────────┤┌───────────┐    ┌─┴─┐    └───────────┘├───────────┤┌───────────┐    ┌─┴─┐    └───────────┘├───────────┤┌───────────┐    ┌─┴─┐    └───────────┘├───────────┤┌───────────┐    ┌─┴─┐              \n",
       "q_1: ┤ Ry(θ[1]) ├┤ Rz(θ[5]) ├┤ X ├─────■───────┤ Ry(θ[9]) ├┤ Rz(θ[13]) ├────┤ X ├──────────■──────┤ Ry(θ[17]) ├┤ Rz(θ[21]) ├────┤ X ├──────────■──────┤ Ry(θ[25]) ├┤ Rz(θ[29]) ├────┤ X ├──────────■──────┤ Ry(θ[33]) ├┤ Rz(θ[37]) ├────┤ X ├──────■───────\n",
       "     ├──────────┤├──────────┤└───┘   ┌─┴─┐     └──────────┘├───────────┤┌───┴───┴───┐    ┌─┴─┐    └───────────┘├───────────┤┌───┴───┴───┐    ┌─┴─┐    └───────────┘├───────────┤┌───┴───┴───┐    ┌─┴─┐    └───────────┘├───────────┤┌───┴───┴───┐┌─┴─┐     \n",
       "q_2: ┤ Ry(θ[2]) ├┤ Rz(θ[6]) ├────────┤ X ├──────────■──────┤ Ry(θ[10]) ├┤ Rz(θ[14]) ├────┤ X ├──────────■──────┤ Ry(θ[18]) ├┤ Rz(θ[22]) ├────┤ X ├──────────■──────┤ Ry(θ[26]) ├┤ Rz(θ[30]) ├────┤ X ├──────────■──────┤ Ry(θ[34]) ├┤ Rz(θ[38]) ├┤ X ├──■──\n",
       "     ├──────────┤├──────────┤        └───┘        ┌─┴─┐    ├───────────┤├───────────┤    └───┘        ┌─┴─┐    ├───────────┤├───────────┤    └───┘        ┌─┴─┐    ├───────────┤├───────────┤    └───┘        ┌─┴─┐    ├───────────┤├───────────┤└───┘┌─┴─┐\n",
       "q_3: ┤ Ry(θ[3]) ├┤ Rz(θ[7]) ├─────────────────────┤ X ├────┤ Ry(θ[11]) ├┤ Rz(θ[15]) ├─────────────────┤ X ├────┤ Ry(θ[19]) ├┤ Rz(θ[23]) ├─────────────────┤ X ├────┤ Ry(θ[27]) ├┤ Rz(θ[31]) ├─────────────────┤ X ├────┤ Ry(θ[35]) ├┤ Rz(θ[39]) ├─────┤ X ├\n",
       "     └──────────┘└──────────┘                     └───┘    └───────────┘└───────────┘                 └───┘    └───────────┘└───────────┘                 └───┘    └───────────┘└───────────┘                 └───┘    └───────────┘└───────────┘     └───┘"
      ]
     },
     "execution_count": 102,
     "metadata": {},
     "output_type": "execute_result"
    }
   ],
   "source": [
    "#!pip install --force-reinstall qiskit \n",
    "#!pip install --upgrade pip\n",
    "#!pip install qiskit_algorithms\n",
    "#from qiskit_algorithms import VQE\n",
    "#from qiskit.circuit.library.data_preparation import Initialize\n",
    "from qiskit.primitives import Estimator\n",
    "from qiskit_aer.primitives import Estimator as AerEstimator\n",
    "\n",
    "ansatz_opt = transpile(ansatz, backend=Aer.get_backend('statevector_simulator'), optimization_level=3)\n",
    "estimator = Estimator(options={\"shots\": 2048})\n",
    "print(ansatz_opt.num_qubits)\n",
    "\n",
    "print('number and type of gates in the cirucit:', ansatz_opt.count_ops())\n",
    "print('number of parameters in the circuit:', ansatz_opt.num_parameters)\n",
    "ansatz_opt.draw(fold=300)"
   ]
  },
  {
   "cell_type": "code",
   "execution_count": 51,
   "id": "141719a7",
   "metadata": {},
   "outputs": [],
   "source": [
    "from qiskit.algorithms.optimizers import SPSA, COBYLA, L_BFGS_B, NELDER_MEAD, SLSQP, ADAM, AQGD, CG, POWELL, QNSPSA\n",
    "\n",
    "# optimizer = SPSA(maxiter=500)\n",
    "optimizer  = L_BFGS_B(maxiter=5000)\n",
    "#optimizer  = ADAM(maxiter=200, lr=0.2)\n",
    "# optimizer  = AQGD(maxiter=1000, eta=1.0, tol=1e-06, momentum=0.25, param_tol=1e-06, averaging=10)\n",
    "# optimizer  = POWELL()\n",
    "# optimizer  = COBYLA(maxiter=10000)\n",
    "# optimizer  = SLSQP(maxiter=10000)"
   ]
  },
  {
   "cell_type": "code",
   "execution_count": 94,
   "id": "651899e8",
   "metadata": {
    "scrolled": false
   },
   "outputs": [
    {
     "name": "stderr",
     "output_type": "stream",
     "text": [
      "/var/folders/05/ddc9tzds32j79jy03cjnxk_r0000gn/T/ipykernel_24025/1373706108.py:3: DeprecationWarning: The class ``qiskit.utils.quantum_instance.QuantumInstance`` is deprecated as of qiskit-terra 0.24.0. It will be removed no earlier than 3 months after the release date. For code migration guidelines, visit https://qisk.it/qi_migration.\n",
      "  quantum_instance = QuantumInstance(backend=backend, seed_simulator=28, seed_transpiler=28, initial_layout = [1,2,3,4],\n"
     ]
    }
   ],
   "source": [
    "from qiskit.utils import QuantumInstance\n",
    "#from qiskit.algorithms import VQE\n",
    "quantum_instance = QuantumInstance(backend=backend, seed_simulator=28, seed_transpiler=28, initial_layout = [1,2,3,4],\n",
    "                                        basis_gates=None,\n",
    "                                        optimization_level=3)"
   ]
  },
  {
   "cell_type": "code",
   "execution_count": 112,
   "id": "837166dd",
   "metadata": {},
   "outputs": [
    {
     "name": "stderr",
     "output_type": "stream",
     "text": [
      "/var/folders/05/ddc9tzds32j79jy03cjnxk_r0000gn/T/ipykernel_24025/2220468332.py:17: DeprecationWarning: Option approximation=False is deprecated as of qiskit-aer 0.13. It will be removed no earlier than 3 months after the release date. Instead, use BackendEstmator from qiskit.primitives.\n",
      "  aer_estimator = AerEstimator(run_options={\"shots\": 2048, \"seed\": 28})\n"
     ]
    },
    {
     "ename": "AlgorithmError",
     "evalue": "'The number of qubits of the ansatz does not match the operator, and the ansatz does not allow setting the number of qubits using `num_qubits`.'",
     "output_type": "error",
     "traceback": [
      "\u001b[0;31m---------------------------------------------------------------------------\u001b[0m",
      "\u001b[0;31mAttributeError\u001b[0m                            Traceback (most recent call last)",
      "File \u001b[0;32m~/anaconda3/envs/quantum_env/lib/python3.8/site-packages/qiskit/algorithms/minimum_eigensolvers/vqe.py:311\u001b[0m, in \u001b[0;36mVQE._check_operator_ansatz\u001b[0;34m(self, operator)\u001b[0m\n\u001b[1;32m    308\u001b[0m     logger\u001b[38;5;241m.\u001b[39minfo(\n\u001b[1;32m    309\u001b[0m         \u001b[38;5;124m\"\u001b[39m\u001b[38;5;124mTrying to resize ansatz to match operator on \u001b[39m\u001b[38;5;132;01m%s\u001b[39;00m\u001b[38;5;124m qubits.\u001b[39m\u001b[38;5;124m\"\u001b[39m, operator\u001b[38;5;241m.\u001b[39mnum_qubits\n\u001b[1;32m    310\u001b[0m     )\n\u001b[0;32m--> 311\u001b[0m     \u001b[38;5;28mself\u001b[39m\u001b[38;5;241m.\u001b[39mansatz\u001b[38;5;241m.\u001b[39mnum_qubits \u001b[38;5;241m=\u001b[39m operator\u001b[38;5;241m.\u001b[39mnum_qubits\n\u001b[1;32m    312\u001b[0m \u001b[38;5;28;01mexcept\u001b[39;00m \u001b[38;5;167;01mAttributeError\u001b[39;00m \u001b[38;5;28;01mas\u001b[39;00m error:\n",
      "\u001b[0;31mAttributeError\u001b[0m: can't set attribute",
      "\nThe above exception was the direct cause of the following exception:\n",
      "\u001b[0;31mAlgorithmError\u001b[0m                            Traceback (most recent call last)",
      "Cell \u001b[0;32mIn[112], line 23\u001b[0m\n\u001b[1;32m     21\u001b[0m \u001b[38;5;66;03m#hamiltonian = H_op\u001b[39;00m\n\u001b[1;32m     22\u001b[0m hamiltonian \u001b[38;5;241m=\u001b[39m PauliSumOp\u001b[38;5;241m.\u001b[39mfrom_list([(\u001b[38;5;124m\"\u001b[39m\u001b[38;5;124mXX\u001b[39m\u001b[38;5;124m\"\u001b[39m, \u001b[38;5;241m1\u001b[39m), (\u001b[38;5;124m\"\u001b[39m\u001b[38;5;124mXY\u001b[39m\u001b[38;5;124m\"\u001b[39m, \u001b[38;5;241m1\u001b[39m)])\n\u001b[0;32m---> 23\u001b[0m result \u001b[38;5;241m=\u001b[39m \u001b[43mvqe\u001b[49m\u001b[38;5;241;43m.\u001b[39;49m\u001b[43mcompute_minimum_eigenvalue\u001b[49m\u001b[43m(\u001b[49m\u001b[43mhamiltonian\u001b[49m\u001b[43m)\u001b[49m\n\u001b[1;32m     25\u001b[0m \u001b[38;5;28mprint\u001b[39m(result\u001b[38;5;241m.\u001b[39meigenvalue)\n",
      "File \u001b[0;32m~/anaconda3/envs/quantum_env/lib/python3.8/site-packages/qiskit/algorithms/minimum_eigensolvers/vqe.py:166\u001b[0m, in \u001b[0;36mVQE.compute_minimum_eigenvalue\u001b[0;34m(self, operator, aux_operators)\u001b[0m\n\u001b[1;32m    161\u001b[0m \u001b[38;5;28;01mdef\u001b[39;00m \u001b[38;5;21mcompute_minimum_eigenvalue\u001b[39m(\n\u001b[1;32m    162\u001b[0m     \u001b[38;5;28mself\u001b[39m,\n\u001b[1;32m    163\u001b[0m     operator: BaseOperator \u001b[38;5;241m|\u001b[39m PauliSumOp,\n\u001b[1;32m    164\u001b[0m     aux_operators: ListOrDict[BaseOperator \u001b[38;5;241m|\u001b[39m PauliSumOp] \u001b[38;5;241m|\u001b[39m \u001b[38;5;28;01mNone\u001b[39;00m \u001b[38;5;241m=\u001b[39m \u001b[38;5;28;01mNone\u001b[39;00m,\n\u001b[1;32m    165\u001b[0m ) \u001b[38;5;241m-\u001b[39m\u001b[38;5;241m>\u001b[39m VQEResult:\n\u001b[0;32m--> 166\u001b[0m     \u001b[38;5;28;43mself\u001b[39;49m\u001b[38;5;241;43m.\u001b[39;49m\u001b[43m_check_operator_ansatz\u001b[49m\u001b[43m(\u001b[49m\u001b[43moperator\u001b[49m\u001b[43m)\u001b[49m\n\u001b[1;32m    168\u001b[0m     initial_point \u001b[38;5;241m=\u001b[39m validate_initial_point(\u001b[38;5;28mself\u001b[39m\u001b[38;5;241m.\u001b[39minitial_point, \u001b[38;5;28mself\u001b[39m\u001b[38;5;241m.\u001b[39mansatz)\n\u001b[1;32m    170\u001b[0m     bounds \u001b[38;5;241m=\u001b[39m validate_bounds(\u001b[38;5;28mself\u001b[39m\u001b[38;5;241m.\u001b[39mansatz)\n",
      "File \u001b[0;32m~/anaconda3/envs/quantum_env/lib/python3.8/site-packages/qiskit/algorithms/minimum_eigensolvers/vqe.py:313\u001b[0m, in \u001b[0;36mVQE._check_operator_ansatz\u001b[0;34m(self, operator)\u001b[0m\n\u001b[1;32m    311\u001b[0m         \u001b[38;5;28mself\u001b[39m\u001b[38;5;241m.\u001b[39mansatz\u001b[38;5;241m.\u001b[39mnum_qubits \u001b[38;5;241m=\u001b[39m operator\u001b[38;5;241m.\u001b[39mnum_qubits\n\u001b[1;32m    312\u001b[0m     \u001b[38;5;28;01mexcept\u001b[39;00m \u001b[38;5;167;01mAttributeError\u001b[39;00m \u001b[38;5;28;01mas\u001b[39;00m error:\n\u001b[0;32m--> 313\u001b[0m         \u001b[38;5;28;01mraise\u001b[39;00m AlgorithmError(\n\u001b[1;32m    314\u001b[0m             \u001b[38;5;124m\"\u001b[39m\u001b[38;5;124mThe number of qubits of the ansatz does not match the \u001b[39m\u001b[38;5;124m\"\u001b[39m\n\u001b[1;32m    315\u001b[0m             \u001b[38;5;124m\"\u001b[39m\u001b[38;5;124moperator, and the ansatz does not allow setting the \u001b[39m\u001b[38;5;124m\"\u001b[39m\n\u001b[1;32m    316\u001b[0m             \u001b[38;5;124m\"\u001b[39m\u001b[38;5;124mnumber of qubits using `num_qubits`.\u001b[39m\u001b[38;5;124m\"\u001b[39m\n\u001b[1;32m    317\u001b[0m         ) \u001b[38;5;28;01mfrom\u001b[39;00m \u001b[38;5;21;01merror\u001b[39;00m\n\u001b[1;32m    319\u001b[0m \u001b[38;5;28;01mif\u001b[39;00m \u001b[38;5;28mself\u001b[39m\u001b[38;5;241m.\u001b[39mansatz\u001b[38;5;241m.\u001b[39mnum_parameters \u001b[38;5;241m==\u001b[39m \u001b[38;5;241m0\u001b[39m:\n\u001b[1;32m    320\u001b[0m     \u001b[38;5;28;01mraise\u001b[39;00m AlgorithmError(\u001b[38;5;124m\"\u001b[39m\u001b[38;5;124mThe ansatz must be parameterized, but has no free parameters.\u001b[39m\u001b[38;5;124m\"\u001b[39m)\n",
      "\u001b[0;31mAlgorithmError\u001b[0m: 'The number of qubits of the ansatz does not match the operator, and the ansatz does not allow setting the number of qubits using `num_qubits`.'"
     ]
    }
   ],
   "source": [
    "from qiskit.algorithms.minimum_eigensolvers import VQE  # new import!!!\n",
    "from qiskit.algorithms.optimizers import SPSA\n",
    "from qiskit.circuit.library import TwoLocal\n",
    "from qiskit.quantum_info import SparsePauliOp\n",
    "from qiskit.primitives import Estimator\n",
    "from qiskit_aer.primitives import Estimator as AerEstimator\n",
    "from qiskit.opflow import PauliSumOp\n",
    " \n",
    "ansatz = EfficientSU2(N, entanglement='linear', reps=depth, skip_final_rotation_layer=True).decompose()\n",
    "optimizer  = L_BFGS_B(maxiter=5000)\n",
    " \n",
    "# shot-based simulation\n",
    "estimator = Estimator(options={\"shots\": 2048})\n",
    "vqe = VQE(estimator, ansatz_opt, optimizer)\n",
    " \n",
    "# another option\n",
    "aer_estimator = AerEstimator(run_options={\"shots\": 2048, \"seed\": 28})\n",
    "vqe = VQE(aer_estimator, ansatz, optimizer)\n",
    "vqe.initial_point = 2*np.pi*np.random.rand(ansatz_opt.num_parameters)\n",
    " \n",
    "#hamiltonian = H_op\n",
    "hamiltonian = PauliSumOp.from_list([(\"XX\", 1), (\"XY\", 1)])\n",
    "result = vqe.compute_minimum_eigenvalue(hamiltonian)\n",
    " \n",
    "print(result.eigenvalue)"
   ]
  },
  {
   "cell_type": "code",
   "execution_count": 103,
   "id": "e2dd0670",
   "metadata": {},
   "outputs": [
    {
     "ename": "AlgorithmError",
     "evalue": "'The primitive job to evaluate the energy failed!'",
     "output_type": "error",
     "traceback": [
      "\u001b[0;31m---------------------------------------------------------------------------\u001b[0m",
      "\u001b[0;31mQiskitError\u001b[0m                               Traceback (most recent call last)",
      "File \u001b[0;32m~/anaconda3/envs/quantum_env/lib/python3.8/site-packages/qiskit_algorithms/minimum_eigensolvers/vqe.py:253\u001b[0m, in \u001b[0;36mVQE._get_evaluate_energy.<locals>.evaluate_energy\u001b[0;34m(parameters)\u001b[0m\n\u001b[1;32m    252\u001b[0m \u001b[38;5;28;01mtry\u001b[39;00m:\n\u001b[0;32m--> 253\u001b[0m     job \u001b[38;5;241m=\u001b[39m \u001b[38;5;28;43mself\u001b[39;49m\u001b[38;5;241;43m.\u001b[39;49m\u001b[43mestimator\u001b[49m\u001b[38;5;241;43m.\u001b[39;49m\u001b[43mrun\u001b[49m\u001b[43m(\u001b[49m\u001b[43mbatch_size\u001b[49m\u001b[43m \u001b[49m\u001b[38;5;241;43m*\u001b[39;49m\u001b[43m \u001b[49m\u001b[43m[\u001b[49m\u001b[43mansatz\u001b[49m\u001b[43m]\u001b[49m\u001b[43m,\u001b[49m\u001b[43m \u001b[49m\u001b[43mbatch_size\u001b[49m\u001b[43m \u001b[49m\u001b[38;5;241;43m*\u001b[39;49m\u001b[43m \u001b[49m\u001b[43m[\u001b[49m\u001b[43moperator\u001b[49m\u001b[43m]\u001b[49m\u001b[43m,\u001b[49m\u001b[43m \u001b[49m\u001b[43mparameters\u001b[49m\u001b[43m)\u001b[49m\n\u001b[1;32m    254\u001b[0m     estimator_result \u001b[38;5;241m=\u001b[39m job\u001b[38;5;241m.\u001b[39mresult()\n",
      "File \u001b[0;32m~/anaconda3/envs/quantum_env/lib/python3.8/site-packages/qiskit/primitives/base/base_estimator.py:174\u001b[0m, in \u001b[0;36mBaseEstimator.run\u001b[0;34m(self, circuits, observables, parameter_values, **run_options)\u001b[0m\n\u001b[1;32m    173\u001b[0m circuits \u001b[38;5;241m=\u001b[39m \u001b[38;5;28mself\u001b[39m\u001b[38;5;241m.\u001b[39m_validate_circuits(circuits)\n\u001b[0;32m--> 174\u001b[0m observables \u001b[38;5;241m=\u001b[39m \u001b[38;5;28;43mself\u001b[39;49m\u001b[38;5;241;43m.\u001b[39;49m\u001b[43m_validate_observables\u001b[49m\u001b[43m(\u001b[49m\u001b[43mobservables\u001b[49m\u001b[43m)\u001b[49m\n\u001b[1;32m    175\u001b[0m parameter_values \u001b[38;5;241m=\u001b[39m \u001b[38;5;28mself\u001b[39m\u001b[38;5;241m.\u001b[39m_validate_parameter_values(\n\u001b[1;32m    176\u001b[0m     parameter_values,\n\u001b[1;32m    177\u001b[0m     default\u001b[38;5;241m=\u001b[39m[()] \u001b[38;5;241m*\u001b[39m \u001b[38;5;28mlen\u001b[39m(circuits),\n\u001b[1;32m    178\u001b[0m )\n",
      "File \u001b[0;32m~/anaconda3/envs/quantum_env/lib/python3.8/site-packages/qiskit/primitives/base/base_estimator.py:213\u001b[0m, in \u001b[0;36mBaseEstimator._validate_observables\u001b[0;34m(observables)\u001b[0m\n\u001b[1;32m    212\u001b[0m     \u001b[38;5;28;01mraise\u001b[39;00m \u001b[38;5;167;01mValueError\u001b[39;00m(\u001b[38;5;124m\"\u001b[39m\u001b[38;5;124mNo observables were provided.\u001b[39m\u001b[38;5;124m\"\u001b[39m)\n\u001b[0;32m--> 213\u001b[0m \u001b[38;5;28;01mreturn\u001b[39;00m \u001b[38;5;28;43mtuple\u001b[39;49m\u001b[43m(\u001b[49m\u001b[43minit_observable\u001b[49m\u001b[43m(\u001b[49m\u001b[43mobs\u001b[49m\u001b[43m)\u001b[49m\u001b[43m \u001b[49m\u001b[38;5;28;43;01mfor\u001b[39;49;00m\u001b[43m \u001b[49m\u001b[43mobs\u001b[49m\u001b[43m \u001b[49m\u001b[38;5;129;43;01min\u001b[39;49;00m\u001b[43m \u001b[49m\u001b[43mobservables\u001b[49m\u001b[43m)\u001b[49m\n",
      "File \u001b[0;32m~/anaconda3/envs/quantum_env/lib/python3.8/site-packages/qiskit/primitives/base/base_estimator.py:213\u001b[0m, in \u001b[0;36m<genexpr>\u001b[0;34m(.0)\u001b[0m\n\u001b[1;32m    212\u001b[0m     \u001b[38;5;28;01mraise\u001b[39;00m \u001b[38;5;167;01mValueError\u001b[39;00m(\u001b[38;5;124m\"\u001b[39m\u001b[38;5;124mNo observables were provided.\u001b[39m\u001b[38;5;124m\"\u001b[39m)\n\u001b[0;32m--> 213\u001b[0m \u001b[38;5;28;01mreturn\u001b[39;00m \u001b[38;5;28mtuple\u001b[39m(\u001b[43minit_observable\u001b[49m\u001b[43m(\u001b[49m\u001b[43mobs\u001b[49m\u001b[43m)\u001b[49m \u001b[38;5;28;01mfor\u001b[39;00m obs \u001b[38;5;129;01min\u001b[39;00m observables)\n",
      "File \u001b[0;32m~/anaconda3/envs/quantum_env/lib/python3.8/site-packages/qiskit/primitives/utils.py:85\u001b[0m, in \u001b[0;36minit_observable\u001b[0;34m(observable)\u001b[0m\n\u001b[1;32m     84\u001b[0m \u001b[38;5;28;01melse\u001b[39;00m:\n\u001b[0;32m---> 85\u001b[0m     \u001b[38;5;28;01mreturn\u001b[39;00m \u001b[43mSparsePauliOp\u001b[49m\u001b[43m(\u001b[49m\u001b[43mobservable\u001b[49m\u001b[43m)\u001b[49m\n",
      "File \u001b[0;32m~/anaconda3/envs/quantum_env/lib/python3.8/site-packages/qiskit/quantum_info/operators/symplectic/sparse_pauli_op.py:132\u001b[0m, in \u001b[0;36mSparsePauliOp.__init__\u001b[0;34m(self, data, coeffs, ignore_pauli_phase, copy)\u001b[0m\n\u001b[1;32m    130\u001b[0m     ignore_pauli_phase \u001b[38;5;241m=\u001b[39m \u001b[38;5;28;01mTrue\u001b[39;00m\n\u001b[0;32m--> 132\u001b[0m pauli_list \u001b[38;5;241m=\u001b[39m \u001b[43mPauliList\u001b[49m\u001b[43m(\u001b[49m\u001b[43mdata\u001b[49m\u001b[38;5;241;43m.\u001b[39;49m\u001b[43mcopy\u001b[49m\u001b[43m(\u001b[49m\u001b[43m)\u001b[49m\u001b[43m \u001b[49m\u001b[38;5;28;43;01mif\u001b[39;49;00m\u001b[43m \u001b[49m\u001b[43mcopy\u001b[49m\u001b[43m \u001b[49m\u001b[38;5;129;43;01mand\u001b[39;49;00m\u001b[43m \u001b[49m\u001b[38;5;28;43mhasattr\u001b[39;49m\u001b[43m(\u001b[49m\u001b[43mdata\u001b[49m\u001b[43m,\u001b[49m\u001b[43m \u001b[49m\u001b[38;5;124;43m\"\u001b[39;49m\u001b[38;5;124;43mcopy\u001b[39;49m\u001b[38;5;124;43m\"\u001b[39;49m\u001b[43m)\u001b[49m\u001b[43m \u001b[49m\u001b[38;5;28;43;01melse\u001b[39;49;00m\u001b[43m \u001b[49m\u001b[43mdata\u001b[49m\u001b[43m)\u001b[49m\n\u001b[1;32m    134\u001b[0m \u001b[38;5;28;01mif\u001b[39;00m \u001b[38;5;28misinstance\u001b[39m(coeffs, np\u001b[38;5;241m.\u001b[39mndarray) \u001b[38;5;129;01mand\u001b[39;00m coeffs\u001b[38;5;241m.\u001b[39mdtype \u001b[38;5;241m==\u001b[39m \u001b[38;5;28mobject\u001b[39m:\n",
      "File \u001b[0;32m~/anaconda3/envs/quantum_env/lib/python3.8/site-packages/qiskit/quantum_info/operators/symplectic/pauli_list.py:137\u001b[0m, in \u001b[0;36mPauliList.__init__\u001b[0;34m(self, data)\u001b[0m\n\u001b[1;32m    135\u001b[0m \u001b[38;5;28;01melse\u001b[39;00m:\n\u001b[1;32m    136\u001b[0m     \u001b[38;5;66;03m# Conversion as iterable of Paulis\u001b[39;00m\n\u001b[0;32m--> 137\u001b[0m     base_z, base_x, base_phase \u001b[38;5;241m=\u001b[39m \u001b[38;5;28;43mself\u001b[39;49m\u001b[38;5;241;43m.\u001b[39;49m\u001b[43m_from_paulis\u001b[49m\u001b[43m(\u001b[49m\u001b[43mdata\u001b[49m\u001b[43m)\u001b[49m\n\u001b[1;32m    139\u001b[0m \u001b[38;5;66;03m# Initialize BasePauli\u001b[39;00m\n",
      "File \u001b[0;32m~/anaconda3/envs/quantum_env/lib/python3.8/site-packages/qiskit/quantum_info/operators/symplectic/pauli_list.py:182\u001b[0m, in \u001b[0;36mPauliList._from_paulis\u001b[0;34m(data)\u001b[0m\n\u001b[1;32m    181\u001b[0m \u001b[38;5;28;01mif\u001b[39;00m \u001b[38;5;129;01mnot\u001b[39;00m \u001b[38;5;28misinstance\u001b[39m(i, Pauli):\n\u001b[0;32m--> 182\u001b[0m     paulis\u001b[38;5;241m.\u001b[39mappend(\u001b[43mPauli\u001b[49m\u001b[43m(\u001b[49m\u001b[43mi\u001b[49m\u001b[43m)\u001b[49m)\n\u001b[1;32m    183\u001b[0m \u001b[38;5;28;01melse\u001b[39;00m:\n",
      "File \u001b[0;32m~/anaconda3/envs/quantum_env/lib/python3.8/site-packages/qiskit/quantum_info/operators/symplectic/pauli.py:193\u001b[0m, in \u001b[0;36mPauli.__init__\u001b[0;34m(self, data)\u001b[0m\n\u001b[1;32m    192\u001b[0m \u001b[38;5;28;01melse\u001b[39;00m:\n\u001b[0;32m--> 193\u001b[0m     \u001b[38;5;28;01mraise\u001b[39;00m QiskitError(\u001b[38;5;124m\"\u001b[39m\u001b[38;5;124mInvalid input data for Pauli.\u001b[39m\u001b[38;5;124m\"\u001b[39m)\n\u001b[1;32m    195\u001b[0m \u001b[38;5;66;03m# Initialize BasePauli\u001b[39;00m\n",
      "\u001b[0;31mQiskitError\u001b[0m: 'Invalid input data for Pauli.'",
      "\nThe above exception was the direct cause of the following exception:\n",
      "\u001b[0;31mAlgorithmError\u001b[0m                            Traceback (most recent call last)",
      "Cell \u001b[0;32mIn[103], line 11\u001b[0m\n\u001b[1;32m      8\u001b[0m \u001b[38;5;66;03m#vqe = VQE(ansatz_opt,optimizer,quantum_instance,initial_point=2*np.pi*np.random.rand(ansatz_opt.num_parameters))\u001b[39;00m\n\u001b[1;32m      9\u001b[0m \u001b[38;5;66;03m#vqe = VQE(ansatz_opt, ansatz, optimizer,initial_point=2*np.pi*np.random.rand(ansatz_opt.num_parameters), callback=None)\u001b[39;00m\n\u001b[1;32m     10\u001b[0m vqe \u001b[38;5;241m=\u001b[39m VQE(estimator, ansatz, optimizer, initial_point\u001b[38;5;241m=\u001b[39m\u001b[38;5;241m2\u001b[39m\u001b[38;5;241m*\u001b[39mnp\u001b[38;5;241m.\u001b[39mpi\u001b[38;5;241m*\u001b[39mnp\u001b[38;5;241m.\u001b[39mrandom\u001b[38;5;241m.\u001b[39mrand(ansatz_opt\u001b[38;5;241m.\u001b[39mnum_parameters))\n\u001b[0;32m---> 11\u001b[0m result \u001b[38;5;241m=\u001b[39m \u001b[43mvqe\u001b[49m\u001b[38;5;241;43m.\u001b[39;49m\u001b[43mcompute_minimum_eigenvalue\u001b[49m\u001b[43m(\u001b[49m\u001b[43mH_op\u001b[49m\u001b[43m)\u001b[49m\n\u001b[1;32m     12\u001b[0m quantum_solution \u001b[38;5;241m=\u001b[39m \u001b[38;5;241m-\u001b[39m\u001b[38;5;241m1\u001b[39m\u001b[38;5;241m*\u001b[39mnp\u001b[38;5;241m.\u001b[39mabs(result\u001b[38;5;241m.\u001b[39meigenstate)\u001b[38;5;241m.\u001b[39mreal\n\u001b[1;32m     13\u001b[0m \u001b[38;5;28mprint\u001b[39m(quantum_solution)\n",
      "File \u001b[0;32m~/anaconda3/envs/quantum_env/lib/python3.8/site-packages/qiskit_algorithms/minimum_eigensolvers/vqe.py:191\u001b[0m, in \u001b[0;36mVQE.compute_minimum_eigenvalue\u001b[0;34m(self, operator, aux_operators)\u001b[0m\n\u001b[1;32m    186\u001b[0m \u001b[38;5;28;01melse\u001b[39;00m:\n\u001b[1;32m    187\u001b[0m     \u001b[38;5;66;03m# we always want to submit as many estimations per job as possible for minimal\u001b[39;00m\n\u001b[1;32m    188\u001b[0m     \u001b[38;5;66;03m# overhead on the hardware\u001b[39;00m\n\u001b[1;32m    189\u001b[0m     was_updated \u001b[38;5;241m=\u001b[39m _set_default_batchsize(\u001b[38;5;28mself\u001b[39m\u001b[38;5;241m.\u001b[39moptimizer)\n\u001b[0;32m--> 191\u001b[0m     optimizer_result \u001b[38;5;241m=\u001b[39m \u001b[38;5;28;43mself\u001b[39;49m\u001b[38;5;241;43m.\u001b[39;49m\u001b[43moptimizer\u001b[49m\u001b[38;5;241;43m.\u001b[39;49m\u001b[43mminimize\u001b[49m\u001b[43m(\u001b[49m\n\u001b[1;32m    192\u001b[0m \u001b[43m        \u001b[49m\u001b[43mfun\u001b[49m\u001b[38;5;241;43m=\u001b[39;49m\u001b[43mevaluate_energy\u001b[49m\u001b[43m,\u001b[49m\u001b[43m \u001b[49m\u001b[43mx0\u001b[49m\u001b[38;5;241;43m=\u001b[39;49m\u001b[43minitial_point\u001b[49m\u001b[43m,\u001b[49m\u001b[43m \u001b[49m\u001b[43mjac\u001b[49m\u001b[38;5;241;43m=\u001b[39;49m\u001b[43mevaluate_gradient\u001b[49m\u001b[43m,\u001b[49m\u001b[43m \u001b[49m\u001b[43mbounds\u001b[49m\u001b[38;5;241;43m=\u001b[39;49m\u001b[43mbounds\u001b[49m\n\u001b[1;32m    193\u001b[0m \u001b[43m    \u001b[49m\u001b[43m)\u001b[49m\n\u001b[1;32m    195\u001b[0m     \u001b[38;5;66;03m# reset to original value\u001b[39;00m\n\u001b[1;32m    196\u001b[0m     \u001b[38;5;28;01mif\u001b[39;00m was_updated:\n",
      "File \u001b[0;32m~/anaconda3/envs/quantum_env/lib/python3.8/site-packages/qiskit/algorithms/optimizers/scipy_optimizer.py:154\u001b[0m, in \u001b[0;36mSciPyOptimizer.minimize\u001b[0;34m(self, fun, x0, jac, bounds)\u001b[0m\n\u001b[1;32m    151\u001b[0m     swapped_deprecated_args \u001b[38;5;241m=\u001b[39m \u001b[38;5;28;01mTrue\u001b[39;00m\n\u001b[1;32m    152\u001b[0m     \u001b[38;5;28mself\u001b[39m\u001b[38;5;241m.\u001b[39m_options[\u001b[38;5;124m\"\u001b[39m\u001b[38;5;124mmaxfun\u001b[39m\u001b[38;5;124m\"\u001b[39m] \u001b[38;5;241m=\u001b[39m \u001b[38;5;28mself\u001b[39m\u001b[38;5;241m.\u001b[39m_options\u001b[38;5;241m.\u001b[39mpop(\u001b[38;5;124m\"\u001b[39m\u001b[38;5;124mmaxiter\u001b[39m\u001b[38;5;124m\"\u001b[39m)\n\u001b[0;32m--> 154\u001b[0m raw_result \u001b[38;5;241m=\u001b[39m \u001b[43mminimize\u001b[49m\u001b[43m(\u001b[49m\n\u001b[1;32m    155\u001b[0m \u001b[43m    \u001b[49m\u001b[43mfun\u001b[49m\u001b[38;5;241;43m=\u001b[39;49m\u001b[43mfun\u001b[49m\u001b[43m,\u001b[49m\n\u001b[1;32m    156\u001b[0m \u001b[43m    \u001b[49m\u001b[43mx0\u001b[49m\u001b[38;5;241;43m=\u001b[39;49m\u001b[43mx0\u001b[49m\u001b[43m,\u001b[49m\n\u001b[1;32m    157\u001b[0m \u001b[43m    \u001b[49m\u001b[43mmethod\u001b[49m\u001b[38;5;241;43m=\u001b[39;49m\u001b[38;5;28;43mself\u001b[39;49m\u001b[38;5;241;43m.\u001b[39;49m\u001b[43m_method\u001b[49m\u001b[43m,\u001b[49m\n\u001b[1;32m    158\u001b[0m \u001b[43m    \u001b[49m\u001b[43mjac\u001b[49m\u001b[38;5;241;43m=\u001b[39;49m\u001b[43mjac\u001b[49m\u001b[43m,\u001b[49m\n\u001b[1;32m    159\u001b[0m \u001b[43m    \u001b[49m\u001b[43mbounds\u001b[49m\u001b[38;5;241;43m=\u001b[39;49m\u001b[43mbounds\u001b[49m\u001b[43m,\u001b[49m\n\u001b[1;32m    160\u001b[0m \u001b[43m    \u001b[49m\u001b[43moptions\u001b[49m\u001b[38;5;241;43m=\u001b[39;49m\u001b[38;5;28;43mself\u001b[39;49m\u001b[38;5;241;43m.\u001b[39;49m\u001b[43m_options\u001b[49m\u001b[43m,\u001b[49m\n\u001b[1;32m    161\u001b[0m \u001b[43m    \u001b[49m\u001b[38;5;241;43m*\u001b[39;49m\u001b[38;5;241;43m*\u001b[39;49m\u001b[38;5;28;43mself\u001b[39;49m\u001b[38;5;241;43m.\u001b[39;49m\u001b[43m_kwargs\u001b[49m\u001b[43m,\u001b[49m\n\u001b[1;32m    162\u001b[0m \u001b[43m\u001b[49m\u001b[43m)\u001b[49m\n\u001b[1;32m    163\u001b[0m \u001b[38;5;28;01mif\u001b[39;00m swapped_deprecated_args:\n\u001b[1;32m    164\u001b[0m     \u001b[38;5;28mself\u001b[39m\u001b[38;5;241m.\u001b[39m_options[\u001b[38;5;124m\"\u001b[39m\u001b[38;5;124mmaxiter\u001b[39m\u001b[38;5;124m\"\u001b[39m] \u001b[38;5;241m=\u001b[39m \u001b[38;5;28mself\u001b[39m\u001b[38;5;241m.\u001b[39m_options\u001b[38;5;241m.\u001b[39mpop(\u001b[38;5;124m\"\u001b[39m\u001b[38;5;124mmaxfun\u001b[39m\u001b[38;5;124m\"\u001b[39m)\n",
      "File \u001b[0;32m~/anaconda3/envs/quantum_env/lib/python3.8/site-packages/scipy/optimize/_minimize.py:696\u001b[0m, in \u001b[0;36mminimize\u001b[0;34m(fun, x0, args, method, jac, hess, hessp, bounds, constraints, tol, callback, options)\u001b[0m\n\u001b[1;32m    693\u001b[0m     res \u001b[38;5;241m=\u001b[39m _minimize_newtoncg(fun, x0, args, jac, hess, hessp, callback,\n\u001b[1;32m    694\u001b[0m                              \u001b[38;5;241m*\u001b[39m\u001b[38;5;241m*\u001b[39moptions)\n\u001b[1;32m    695\u001b[0m \u001b[38;5;28;01melif\u001b[39;00m meth \u001b[38;5;241m==\u001b[39m \u001b[38;5;124m'\u001b[39m\u001b[38;5;124ml-bfgs-b\u001b[39m\u001b[38;5;124m'\u001b[39m:\n\u001b[0;32m--> 696\u001b[0m     res \u001b[38;5;241m=\u001b[39m \u001b[43m_minimize_lbfgsb\u001b[49m\u001b[43m(\u001b[49m\u001b[43mfun\u001b[49m\u001b[43m,\u001b[49m\u001b[43m \u001b[49m\u001b[43mx0\u001b[49m\u001b[43m,\u001b[49m\u001b[43m \u001b[49m\u001b[43margs\u001b[49m\u001b[43m,\u001b[49m\u001b[43m \u001b[49m\u001b[43mjac\u001b[49m\u001b[43m,\u001b[49m\u001b[43m \u001b[49m\u001b[43mbounds\u001b[49m\u001b[43m,\u001b[49m\n\u001b[1;32m    697\u001b[0m \u001b[43m                           \u001b[49m\u001b[43mcallback\u001b[49m\u001b[38;5;241;43m=\u001b[39;49m\u001b[43mcallback\u001b[49m\u001b[43m,\u001b[49m\u001b[43m \u001b[49m\u001b[38;5;241;43m*\u001b[39;49m\u001b[38;5;241;43m*\u001b[39;49m\u001b[43moptions\u001b[49m\u001b[43m)\u001b[49m\n\u001b[1;32m    698\u001b[0m \u001b[38;5;28;01melif\u001b[39;00m meth \u001b[38;5;241m==\u001b[39m \u001b[38;5;124m'\u001b[39m\u001b[38;5;124mtnc\u001b[39m\u001b[38;5;124m'\u001b[39m:\n\u001b[1;32m    699\u001b[0m     res \u001b[38;5;241m=\u001b[39m _minimize_tnc(fun, x0, args, jac, bounds, callback\u001b[38;5;241m=\u001b[39mcallback,\n\u001b[1;32m    700\u001b[0m                         \u001b[38;5;241m*\u001b[39m\u001b[38;5;241m*\u001b[39moptions)\n",
      "File \u001b[0;32m~/anaconda3/envs/quantum_env/lib/python3.8/site-packages/scipy/optimize/_lbfgsb_py.py:305\u001b[0m, in \u001b[0;36m_minimize_lbfgsb\u001b[0;34m(fun, x0, args, jac, bounds, disp, maxcor, ftol, gtol, eps, maxfun, maxiter, iprint, callback, maxls, finite_diff_rel_step, **unknown_options)\u001b[0m\n\u001b[1;32m    302\u001b[0m     \u001b[38;5;28;01melse\u001b[39;00m:\n\u001b[1;32m    303\u001b[0m         iprint \u001b[38;5;241m=\u001b[39m disp\n\u001b[0;32m--> 305\u001b[0m sf \u001b[38;5;241m=\u001b[39m \u001b[43m_prepare_scalar_function\u001b[49m\u001b[43m(\u001b[49m\u001b[43mfun\u001b[49m\u001b[43m,\u001b[49m\u001b[43m \u001b[49m\u001b[43mx0\u001b[49m\u001b[43m,\u001b[49m\u001b[43m \u001b[49m\u001b[43mjac\u001b[49m\u001b[38;5;241;43m=\u001b[39;49m\u001b[43mjac\u001b[49m\u001b[43m,\u001b[49m\u001b[43m \u001b[49m\u001b[43margs\u001b[49m\u001b[38;5;241;43m=\u001b[39;49m\u001b[43margs\u001b[49m\u001b[43m,\u001b[49m\u001b[43m \u001b[49m\u001b[43mepsilon\u001b[49m\u001b[38;5;241;43m=\u001b[39;49m\u001b[43meps\u001b[49m\u001b[43m,\u001b[49m\n\u001b[1;32m    306\u001b[0m \u001b[43m                              \u001b[49m\u001b[43mbounds\u001b[49m\u001b[38;5;241;43m=\u001b[39;49m\u001b[43mnew_bounds\u001b[49m\u001b[43m,\u001b[49m\n\u001b[1;32m    307\u001b[0m \u001b[43m                              \u001b[49m\u001b[43mfinite_diff_rel_step\u001b[49m\u001b[38;5;241;43m=\u001b[39;49m\u001b[43mfinite_diff_rel_step\u001b[49m\u001b[43m)\u001b[49m\n\u001b[1;32m    309\u001b[0m func_and_grad \u001b[38;5;241m=\u001b[39m sf\u001b[38;5;241m.\u001b[39mfun_and_grad\n\u001b[1;32m    311\u001b[0m fortran_int \u001b[38;5;241m=\u001b[39m _lbfgsb\u001b[38;5;241m.\u001b[39mtypes\u001b[38;5;241m.\u001b[39mintvar\u001b[38;5;241m.\u001b[39mdtype\n",
      "File \u001b[0;32m~/anaconda3/envs/quantum_env/lib/python3.8/site-packages/scipy/optimize/_optimize.py:332\u001b[0m, in \u001b[0;36m_prepare_scalar_function\u001b[0;34m(fun, x0, jac, args, bounds, epsilon, finite_diff_rel_step, hess)\u001b[0m\n\u001b[1;32m    328\u001b[0m     bounds \u001b[38;5;241m=\u001b[39m (\u001b[38;5;241m-\u001b[39mnp\u001b[38;5;241m.\u001b[39minf, np\u001b[38;5;241m.\u001b[39minf)\n\u001b[1;32m    330\u001b[0m \u001b[38;5;66;03m# ScalarFunction caches. Reuse of fun(x) during grad\u001b[39;00m\n\u001b[1;32m    331\u001b[0m \u001b[38;5;66;03m# calculation reduces overall function evaluations.\u001b[39;00m\n\u001b[0;32m--> 332\u001b[0m sf \u001b[38;5;241m=\u001b[39m \u001b[43mScalarFunction\u001b[49m\u001b[43m(\u001b[49m\u001b[43mfun\u001b[49m\u001b[43m,\u001b[49m\u001b[43m \u001b[49m\u001b[43mx0\u001b[49m\u001b[43m,\u001b[49m\u001b[43m \u001b[49m\u001b[43margs\u001b[49m\u001b[43m,\u001b[49m\u001b[43m \u001b[49m\u001b[43mgrad\u001b[49m\u001b[43m,\u001b[49m\u001b[43m \u001b[49m\u001b[43mhess\u001b[49m\u001b[43m,\u001b[49m\n\u001b[1;32m    333\u001b[0m \u001b[43m                    \u001b[49m\u001b[43mfinite_diff_rel_step\u001b[49m\u001b[43m,\u001b[49m\u001b[43m \u001b[49m\u001b[43mbounds\u001b[49m\u001b[43m,\u001b[49m\u001b[43m \u001b[49m\u001b[43mepsilon\u001b[49m\u001b[38;5;241;43m=\u001b[39;49m\u001b[43mepsilon\u001b[49m\u001b[43m)\u001b[49m\n\u001b[1;32m    335\u001b[0m \u001b[38;5;28;01mreturn\u001b[39;00m sf\n",
      "File \u001b[0;32m~/anaconda3/envs/quantum_env/lib/python3.8/site-packages/scipy/optimize/_differentiable_functions.py:158\u001b[0m, in \u001b[0;36mScalarFunction.__init__\u001b[0;34m(self, fun, x0, args, grad, hess, finite_diff_rel_step, finite_diff_bounds, epsilon)\u001b[0m\n\u001b[1;32m    155\u001b[0m     \u001b[38;5;28mself\u001b[39m\u001b[38;5;241m.\u001b[39mf \u001b[38;5;241m=\u001b[39m fun_wrapped(\u001b[38;5;28mself\u001b[39m\u001b[38;5;241m.\u001b[39mx)\n\u001b[1;32m    157\u001b[0m \u001b[38;5;28mself\u001b[39m\u001b[38;5;241m.\u001b[39m_update_fun_impl \u001b[38;5;241m=\u001b[39m update_fun\n\u001b[0;32m--> 158\u001b[0m \u001b[38;5;28;43mself\u001b[39;49m\u001b[38;5;241;43m.\u001b[39;49m\u001b[43m_update_fun\u001b[49m\u001b[43m(\u001b[49m\u001b[43m)\u001b[49m\n\u001b[1;32m    160\u001b[0m \u001b[38;5;66;03m# Gradient evaluation\u001b[39;00m\n\u001b[1;32m    161\u001b[0m \u001b[38;5;28;01mif\u001b[39;00m \u001b[38;5;28mcallable\u001b[39m(grad):\n",
      "File \u001b[0;32m~/anaconda3/envs/quantum_env/lib/python3.8/site-packages/scipy/optimize/_differentiable_functions.py:251\u001b[0m, in \u001b[0;36mScalarFunction._update_fun\u001b[0;34m(self)\u001b[0m\n\u001b[1;32m    249\u001b[0m \u001b[38;5;28;01mdef\u001b[39;00m \u001b[38;5;21m_update_fun\u001b[39m(\u001b[38;5;28mself\u001b[39m):\n\u001b[1;32m    250\u001b[0m     \u001b[38;5;28;01mif\u001b[39;00m \u001b[38;5;129;01mnot\u001b[39;00m \u001b[38;5;28mself\u001b[39m\u001b[38;5;241m.\u001b[39mf_updated:\n\u001b[0;32m--> 251\u001b[0m         \u001b[38;5;28;43mself\u001b[39;49m\u001b[38;5;241;43m.\u001b[39;49m\u001b[43m_update_fun_impl\u001b[49m\u001b[43m(\u001b[49m\u001b[43m)\u001b[49m\n\u001b[1;32m    252\u001b[0m         \u001b[38;5;28mself\u001b[39m\u001b[38;5;241m.\u001b[39mf_updated \u001b[38;5;241m=\u001b[39m \u001b[38;5;28;01mTrue\u001b[39;00m\n",
      "File \u001b[0;32m~/anaconda3/envs/quantum_env/lib/python3.8/site-packages/scipy/optimize/_differentiable_functions.py:155\u001b[0m, in \u001b[0;36mScalarFunction.__init__.<locals>.update_fun\u001b[0;34m()\u001b[0m\n\u001b[1;32m    154\u001b[0m \u001b[38;5;28;01mdef\u001b[39;00m \u001b[38;5;21mupdate_fun\u001b[39m():\n\u001b[0;32m--> 155\u001b[0m     \u001b[38;5;28mself\u001b[39m\u001b[38;5;241m.\u001b[39mf \u001b[38;5;241m=\u001b[39m \u001b[43mfun_wrapped\u001b[49m\u001b[43m(\u001b[49m\u001b[38;5;28;43mself\u001b[39;49m\u001b[38;5;241;43m.\u001b[39;49m\u001b[43mx\u001b[49m\u001b[43m)\u001b[49m\n",
      "File \u001b[0;32m~/anaconda3/envs/quantum_env/lib/python3.8/site-packages/scipy/optimize/_differentiable_functions.py:137\u001b[0m, in \u001b[0;36mScalarFunction.__init__.<locals>.fun_wrapped\u001b[0;34m(x)\u001b[0m\n\u001b[1;32m    133\u001b[0m \u001b[38;5;28mself\u001b[39m\u001b[38;5;241m.\u001b[39mnfev \u001b[38;5;241m+\u001b[39m\u001b[38;5;241m=\u001b[39m \u001b[38;5;241m1\u001b[39m\n\u001b[1;32m    134\u001b[0m \u001b[38;5;66;03m# Send a copy because the user may overwrite it.\u001b[39;00m\n\u001b[1;32m    135\u001b[0m \u001b[38;5;66;03m# Overwriting results in undefined behaviour because\u001b[39;00m\n\u001b[1;32m    136\u001b[0m \u001b[38;5;66;03m# fun(self.x) will change self.x, with the two no longer linked.\u001b[39;00m\n\u001b[0;32m--> 137\u001b[0m fx \u001b[38;5;241m=\u001b[39m \u001b[43mfun\u001b[49m\u001b[43m(\u001b[49m\u001b[43mnp\u001b[49m\u001b[38;5;241;43m.\u001b[39;49m\u001b[43mcopy\u001b[49m\u001b[43m(\u001b[49m\u001b[43mx\u001b[49m\u001b[43m)\u001b[49m\u001b[43m,\u001b[49m\u001b[43m \u001b[49m\u001b[38;5;241;43m*\u001b[39;49m\u001b[43margs\u001b[49m\u001b[43m)\u001b[49m\n\u001b[1;32m    138\u001b[0m \u001b[38;5;66;03m# Make sure the function returns a true scalar\u001b[39;00m\n\u001b[1;32m    139\u001b[0m \u001b[38;5;28;01mif\u001b[39;00m \u001b[38;5;129;01mnot\u001b[39;00m np\u001b[38;5;241m.\u001b[39misscalar(fx):\n",
      "File \u001b[0;32m~/anaconda3/envs/quantum_env/lib/python3.8/site-packages/qiskit_algorithms/minimum_eigensolvers/vqe.py:256\u001b[0m, in \u001b[0;36mVQE._get_evaluate_energy.<locals>.evaluate_energy\u001b[0;34m(parameters)\u001b[0m\n\u001b[1;32m    254\u001b[0m     estimator_result \u001b[38;5;241m=\u001b[39m job\u001b[38;5;241m.\u001b[39mresult()\n\u001b[1;32m    255\u001b[0m \u001b[38;5;28;01mexcept\u001b[39;00m \u001b[38;5;167;01mException\u001b[39;00m \u001b[38;5;28;01mas\u001b[39;00m exc:\n\u001b[0;32m--> 256\u001b[0m     \u001b[38;5;28;01mraise\u001b[39;00m AlgorithmError(\u001b[38;5;124m\"\u001b[39m\u001b[38;5;124mThe primitive job to evaluate the energy failed!\u001b[39m\u001b[38;5;124m\"\u001b[39m) \u001b[38;5;28;01mfrom\u001b[39;00m \u001b[38;5;21;01mexc\u001b[39;00m\n\u001b[1;32m    258\u001b[0m values \u001b[38;5;241m=\u001b[39m estimator_result\u001b[38;5;241m.\u001b[39mvalues\n\u001b[1;32m    260\u001b[0m \u001b[38;5;28;01mif\u001b[39;00m \u001b[38;5;28mself\u001b[39m\u001b[38;5;241m.\u001b[39mcallback \u001b[38;5;129;01mis\u001b[39;00m \u001b[38;5;129;01mnot\u001b[39;00m \u001b[38;5;28;01mNone\u001b[39;00m:\n",
      "\u001b[0;31mAlgorithmError\u001b[0m: 'The primitive job to evaluate the energy failed!'"
     ]
    }
   ],
   "source": [
    "from qiskit import QuantumCircuit\n",
    "#!pip install qiskit-optimization\n",
    "#!pip install qiskit_algorithms\n",
    "#from qiskit.circuit.library import Initialize\n",
    "from qiskit.utils import QuantumInstance\n",
    "from qiskit_algorithms import VQE\n",
    "best_result = 99999\n",
    "#vqe = VQE(ansatz_opt,optimizer,quantum_instance,initial_point=2*np.pi*np.random.rand(ansatz_opt.num_parameters))\n",
    "#vqe = VQE(ansatz_opt, ansatz, optimizer,initial_point=2*np.pi*np.random.rand(ansatz_opt.num_parameters), callback=None)\n",
    "vqe = VQE(estimator, ansatz, optimizer, initial_point=2*np.pi*np.random.rand(ansatz_opt.num_parameters))\n",
    "result = vqe.compute_minimum_eigenvalue(H_op)\n",
    "quantum_solution = -1*np.abs(result.eigenstate).real\n",
    "print(quantum_solution)\n",
    "\n",
    "if result.eigenvalue.real < best_result:\n",
    "    best_result = result.eigenvalue.real\n",
    "    kept_result = result\n",
    "print(\"Current round using ansatz TwoLocal with depth {}, found eigenvalue {}. Best so far {}\".format(depth, result.eigenvalue.real,best_result))\n",
    "total_res.update({(N, depth):kept_result})"
   ]
  },
  {
   "cell_type": "code",
   "execution_count": 77,
   "id": "b913eb8f",
   "metadata": {},
   "outputs": [
    {
     "ename": "NameError",
     "evalue": "name 'quantum_solution' is not defined",
     "output_type": "error",
     "traceback": [
      "\u001b[0;31m---------------------------------------------------------------------------\u001b[0m",
      "\u001b[0;31mNameError\u001b[0m                                 Traceback (most recent call last)",
      "Cell \u001b[0;32mIn[77], line 14\u001b[0m\n\u001b[1;32m     12\u001b[0m plt\u001b[38;5;241m.\u001b[39mplot(t, res_norm, \u001b[38;5;124m'\u001b[39m\u001b[38;5;124mr-\u001b[39m\u001b[38;5;124m'\u001b[39m, label\u001b[38;5;241m=\u001b[39m\u001b[38;5;124m'\u001b[39m\u001b[38;5;124manalytical\u001b[39m\u001b[38;5;124m'\u001b[39m)\n\u001b[1;32m     13\u001b[0m plt\u001b[38;5;241m.\u001b[39mplot(bt, x, \u001b[38;5;124m'\u001b[39m\u001b[38;5;124mo-.\u001b[39m\u001b[38;5;124m'\u001b[39m, label\u001b[38;5;241m=\u001b[39m\u001b[38;5;124m'\u001b[39m\u001b[38;5;124mclassical\u001b[39m\u001b[38;5;124m'\u001b[39m)\n\u001b[0;32m---> 14\u001b[0m plt\u001b[38;5;241m.\u001b[39mplot(bt, \u001b[43mquantum_solution\u001b[49m, \u001b[38;5;124m'\u001b[39m\u001b[38;5;124mgx--\u001b[39m\u001b[38;5;124m'\u001b[39m, label\u001b[38;5;241m=\u001b[39m\u001b[38;5;124m'\u001b[39m\u001b[38;5;124mquantum\u001b[39m\u001b[38;5;124m'\u001b[39m)\n\u001b[1;32m     15\u001b[0m \u001b[38;5;66;03m# plt.legend()\u001b[39;00m\n\u001b[1;32m     16\u001b[0m plt\u001b[38;5;241m.\u001b[39mlegend(loc\u001b[38;5;241m=\u001b[39m\u001b[38;5;124m\"\u001b[39m\u001b[38;5;124mlower left\u001b[39m\u001b[38;5;124m\"\u001b[39m)\n",
      "\u001b[0;31mNameError\u001b[0m: name 'quantum_solution' is not defined"
     ]
    },
    {
     "data": {
      "image/png": "[encoded data removed]",
      "text/plain": [
       "<Figure size 640x480 with 1 Axes>"
      ]
     },
     "metadata": {},
     "output_type": "display_data"
    }
   ],
   "source": [
    "t = np.arange(0., 1., 0.02)\n",
    "res = (t**3-t)/6\n",
    "norm_res = np.linalg.norm(res)\n",
    "res_norm = res/norm_res\n",
    "\n",
    "xt = np.arange(0,1,1/dim)\n",
    "exact = [1/6*(x**3-x) for x in np.arange(0,1,1/dim)]\n",
    "norm = np.linalg.norm(exact)\n",
    "exact = exact/norm\n",
    "\n",
    "# red dashes, blue squares and green triangles\n",
    "plt.plot(t, res_norm, 'r-', label='analytical')\n",
    "plt.plot(bt, x, 'o-.', label='classical')\n",
    "plt.plot(bt, quantum_solution, 'gx--', label='quantum')\n",
    "# plt.legend()\n",
    "plt.legend(loc=\"lower left\")\n",
    "plt.xlabel('Boundary [0,1]')\n",
    "plt.ylabel('Solution Profile')\n",
    "plt.title(\"4-qubit VQE for Poisson Eqn, TwoLocal, BFGS\")\n",
    "plt.grid(linestyle = '--', linewidth = 0.5)\n",
    "# plt.show()\n",
    "# plt.savefig(\"Poisson.png\", bbox_inches='tight', dpi=300)"
   ]
  },
  {
   "cell_type": "code",
   "execution_count": null,
   "id": "b547a686",
   "metadata": {},
   "outputs": [],
   "source": []
  }
 ],
 "metadata": {
  "kernelspec": {
   "display_name": "Python (quantum_env)",
   "language": "python",
   "name": "quantum_env"
  },
  "language_info": {
   "codemirror_mode": {
    "name": "ipython",
    "version": 3
   },
   "file_extension": ".py",
   "mimetype": "text/x-python",
   "name": "python",
   "nbconvert_exporter": "python",
   "pygments_lexer": "ipython3",
   "version": "3.8.18"
  }
 },
 "nbformat": 4,
 "nbformat_minor": 5
}
